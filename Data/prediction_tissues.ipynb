{
 "cells": [
  {
   "cell_type": "code",
   "execution_count": 2,
   "id": "bff5e4cc-f97b-46b7-890c-d92eefe71474",
   "metadata": {
    "editable": true,
    "slideshow": {
     "slide_type": ""
    },
    "tags": []
   },
   "outputs": [
    {
     "data": {
      "image/jpeg": "[encoded data removed]",
      "image/png": "[encoded data removed]",
      "text/plain": [
       "<PIL.PngImagePlugin.PngImageFile image mode=RGB size=40x40>"
      ]
     },
     "metadata": {},
     "output_type": "display_data"
    }
   ],
   "source": [
    "from PIL import Image\n",
    "\n",
    "# Cargar la imagen\n",
    "img = Image.open('./inputTensor/Glandula_mamaria/recorte_1.png')\n",
    "\n",
    "# Mostrar la imagen\n",
    "img.show()\n",
    "\n",
    "# (Opcional) Convertir a otro formato (por ejemplo, PNG)\n",
    "# img.save('ruta_a_tu_imagen.png')\n"
   ]
  },
  {
   "cell_type": "code",
   "execution_count": 5,
   "id": "25e5bb5e-6916-4378-836c-5e2348e356ce",
   "metadata": {},
   "outputs": [
    {
     "name": "stdout",
     "output_type": "stream",
     "text": [
      "Found 771 images belonging to 5 classes.\n",
      "Found 192 images belonging to 5 classes.\n",
      "Epoch 1/10\n",
      "\u001b[1m25/25\u001b[0m \u001b[32m━━━━━━━━━━━━━━━━━━━━\u001b[0m\u001b[37m\u001b[0m \u001b[1m4s\u001b[0m 94ms/step - accuracy: 0.2443 - loss: 2.3687 - val_accuracy: 0.5990 - val_loss: 1.1519\n",
      "Epoch 2/10\n",
      "\u001b[1m25/25\u001b[0m \u001b[32m━━━━━━━━━━━━━━━━━━━━\u001b[0m\u001b[37m\u001b[0m \u001b[1m2s\u001b[0m 63ms/step - accuracy: 0.5903 - loss: 1.0792 - val_accuracy: 0.7135 - val_loss: 0.8894\n",
      "Epoch 3/10\n",
      "\u001b[1m25/25\u001b[0m \u001b[32m━━━━━━━━━━━━━━━━━━━━\u001b[0m\u001b[37m\u001b[0m \u001b[1m2s\u001b[0m 61ms/step - accuracy: 0.7103 - loss: 0.7177 - val_accuracy: 0.6927 - val_loss: 0.7792\n",
      "Epoch 4/10\n",
      "\u001b[1m25/25\u001b[0m \u001b[32m━━━━━━━━━━━━━━━━━━━━\u001b[0m\u001b[37m\u001b[0m \u001b[1m2s\u001b[0m 63ms/step - accuracy: 0.7514 - loss: 0.7221 - val_accuracy: 0.6823 - val_loss: 0.7859\n",
      "Epoch 5/10\n",
      "\u001b[1m25/25\u001b[0m \u001b[32m━━━━━━━━━━━━━━━━━━━━\u001b[0m\u001b[37m\u001b[0m \u001b[1m2s\u001b[0m 63ms/step - accuracy: 0.7991 - loss: 0.5491 - val_accuracy: 0.8229 - val_loss: 0.5305\n",
      "Epoch 6/10\n",
      "\u001b[1m25/25\u001b[0m \u001b[32m━━━━━━━━━━━━━━━━━━━━\u001b[0m\u001b[37m\u001b[0m \u001b[1m2s\u001b[0m 69ms/step - accuracy: 0.8284 - loss: 0.4419 - val_accuracy: 0.7812 - val_loss: 0.6200\n",
      "Epoch 7/10\n",
      "\u001b[1m25/25\u001b[0m \u001b[32m━━━━━━━━━━━━━━━━━━━━\u001b[0m\u001b[37m\u001b[0m \u001b[1m2s\u001b[0m 71ms/step - accuracy: 0.8169 - loss: 0.5071 - val_accuracy: 0.7812 - val_loss: 0.6457\n",
      "Epoch 8/10\n",
      "\u001b[1m25/25\u001b[0m \u001b[32m━━━━━━━━━━━━━━━━━━━━\u001b[0m\u001b[37m\u001b[0m \u001b[1m2s\u001b[0m 62ms/step - accuracy: 0.8342 - loss: 0.4675 - val_accuracy: 0.8594 - val_loss: 0.3879\n",
      "Epoch 9/10\n",
      "\u001b[1m25/25\u001b[0m \u001b[32m━━━━━━━━━━━━━━━━━━━━\u001b[0m\u001b[37m\u001b[0m \u001b[1m2s\u001b[0m 61ms/step - accuracy: 0.8910 - loss: 0.3163 - val_accuracy: 0.8490 - val_loss: 0.3876\n",
      "Epoch 10/10\n",
      "\u001b[1m25/25\u001b[0m \u001b[32m━━━━━━━━━━━━━━━━━━━━\u001b[0m\u001b[37m\u001b[0m \u001b[1m2s\u001b[0m 60ms/step - accuracy: 0.8859 - loss: 0.3115 - val_accuracy: 0.7969 - val_loss: 0.5174\n",
      "\u001b[1m6/6\u001b[0m \u001b[32m━━━━━━━━━━━━━━━━━━━━\u001b[0m\u001b[37m\u001b[0m \u001b[1m0s\u001b[0m 52ms/step - accuracy: 0.8108 - loss: 0.5169\n",
      "Pérdida: 0.5174, Precisión: 0.7969\n"
     ]
    }
   ],
   "source": [
    "import tensorflow as tf\n",
    "from tensorflow.keras.preprocessing.image import ImageDataGenerator\n",
    "from tensorflow.keras import layers, models\n",
    "\n",
    "# Configuración\n",
    "input_dir = './inputTensor/'  # Directorio de las imágenes\n",
    "img_height, img_width = 224, 224  # Tamaño al que se redimensionan las imágenes\n",
    "batch_size = 32\n",
    "\n",
    "# Generadores de datos\n",
    "datagen = ImageDataGenerator(\n",
    "    rescale=1.0/255,          # Normalizar valores entre 0 y 1\n",
    "    validation_split=0.2      # 20% para validación\n",
    ")\n",
    "\n",
    "train_data = datagen.flow_from_directory(\n",
    "    input_dir,\n",
    "    target_size=(img_height, img_width),\n",
    "    batch_size=batch_size,\n",
    "    class_mode='categorical',\n",
    "    subset='training'\n",
    ")\n",
    "\n",
    "val_data = datagen.flow_from_directory(\n",
    "    input_dir,\n",
    "    target_size=(img_height, img_width),\n",
    "    batch_size=batch_size,\n",
    "    class_mode='categorical',\n",
    "    subset='validation'\n",
    ")\n",
    "\n",
    "# Construcción del modelo CNN\n",
    "model = models.Sequential([\n",
    "    layers.Conv2D(32, (3, 3), activation='relu', input_shape=(img_height, img_width, 3)),\n",
    "    layers.MaxPooling2D((2, 2)),\n",
    "    layers.Conv2D(64, (3, 3), activation='relu'),\n",
    "    layers.MaxPooling2D((2, 2)),\n",
    "    layers.Conv2D(128, (3, 3), activation='relu'),\n",
    "    layers.MaxPooling2D((2, 2)),\n",
    "    layers.Flatten(),\n",
    "    layers.Dense(128, activation='relu'),\n",
    "    layers.Dense(train_data.num_classes, activation='softmax')  # N clases según carpetas\n",
    "])\n",
    "\n",
    "# Compilación\n",
    "model.compile(\n",
    "    optimizer='adam',\n",
    "    loss='categorical_crossentropy',\n",
    "    metrics=['accuracy']\n",
    ")\n",
    "\n",
    "# Entrenamiento\n",
    "epochs = 10\n",
    "history = model.fit(\n",
    "    train_data,\n",
    "    validation_data=val_data,\n",
    "    epochs=epochs\n",
    ")\n",
    "\n",
    "# Guardar modelo\n",
    "model.save('modelo_tejidos.keras')\n",
    "\n",
    "# Evaluar en datos de validación\n",
    "val_loss, val_acc = model.evaluate(val_data)\n",
    "print(f'Pérdida: {val_loss:.4f}, Precisión: {val_acc:.4f}')\n"
   ]
  },
  {
   "cell_type": "code",
   "execution_count": 6,
   "id": "f3961757-f415-4b83-b5b0-94225e4e3aa7",
   "metadata": {},
   "outputs": [
    {
     "name": "stdout",
     "output_type": "stream",
     "text": [
      "\u001b[1m1/1\u001b[0m \u001b[32m━━━━━━━━━━━━━━━━━━━━\u001b[0m\u001b[37m\u001b[0m \u001b[1m0s\u001b[0m 122ms/step\n",
      "La imagen pertenece a la clase: Glandula_mamaria\n"
     ]
    }
   ],
   "source": [
    "import tensorflow as tf\n",
    "from tensorflow.keras.preprocessing.image import load_img, img_to_array\n",
    "import numpy as np\n",
    "\n",
    "# Cargar el modelo guardado\n",
    "model = tf.keras.models.load_model('modelo_tejidos.keras')\n",
    "\n",
    "# Ruta de la imagen a predecir\n",
    "image_path = './inputTensor/Glandula_mamaria/recorte_1.png'\n",
    "\n",
    "# Preprocesar la imagen\n",
    "img_height, img_width = 224, 224  # Tamaño de entrada del modelo\n",
    "img = load_img(image_path, target_size=(img_height, img_width))  # Cargar y redimensionar\n",
    "img_array = img_to_array(img)  # Convertir a array\n",
    "img_array = img_array / 255.0  # Normalizar\n",
    "img_array = np.expand_dims(img_array, axis=0)  # Añadir dimensión de lote\n",
    "\n",
    "# Hacer la predicción\n",
    "predictions = model.predict(img_array)\n",
    "\n",
    "# Obtener la clase predicha\n",
    "class_indices = train_data.class_indices  # Diccionario clase: índice (del generador)\n",
    "class_labels = {v: k for k, v in class_indices.items()}  # Invertir diccionario\n",
    "predicted_class = class_labels[np.argmax(predictions)]\n",
    "\n",
    "print(f'La imagen pertenece a la clase: {predicted_class}')\n"
   ]
  }
 ],
 "metadata": {
  "kernelspec": {
   "display_name": "Python 3 (ipykernel)",
   "language": "python",
   "name": "python3"
  },
  "language_info": {
   "codemirror_mode": {
    "name": "ipython",
    "version": 3
   },
   "file_extension": ".py",
   "mimetype": "text/x-python",
   "name": "python",
   "nbconvert_exporter": "python",
   "pygments_lexer": "ipython3",
   "version": "3.11.0rc1"
  }
 },
 "nbformat": 4,
 "nbformat_minor": 5
}
