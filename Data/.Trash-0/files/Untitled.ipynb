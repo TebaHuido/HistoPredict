{
 "cells": [
  {
   "cell_type": "code",
   "execution_count": 9,
   "id": "bff5e4cc-f97b-46b7-890c-d92eefe71474",
   "metadata": {
    "editable": true,
    "slideshow": {
     "slide_type": ""
    },
    "tags": []
   },
   "outputs": [
    {
     "data": {
      "image/jpeg": "[encoded data removed]",
      "image/png": "[encoded data removed]",
      "text/plain": [
       "<PIL.PngImagePlugin.PngImageFile image mode=RGB size=40x40>"
      ]
     },
     "metadata": {},
     "output_type": "display_data"
    }
   ],
   "source": [
    "from PIL import Image\n",
    "\n",
    "# Cargar la imagen\n",
    "img = Image.open('./Glandula_mamaria/recorte_1.png')\n",
    "\n",
    "# Mostrar la imagen\n",
    "img.show()\n",
    "\n",
    "# (Opcional) Convertir a otro formato (por ejemplo, PNG)\n",
    "# img.save('ruta_a_tu_imagen.png')\n"
   ]
  },
  {
   "cell_type": "code",
   "execution_count": null,
   "id": "25e5bb5e-6916-4378-836c-5e2348e356ce",
   "metadata": {},
   "outputs": [],
   "source": []
  },
  {
   "cell_type": "code",
   "execution_count": null,
   "id": "f3961757-f415-4b83-b5b0-94225e4e3aa7",
   "metadata": {},
   "outputs": [],
   "source": []
  }
 ],
 "metadata": {
  "kernelspec": {
   "display_name": "Python 3 (ipykernel)",
   "language": "python",
   "name": "python3"
  },
  "language_info": {
   "codemirror_mode": {
    "name": "ipython",
    "version": 3
   },
   "file_extension": ".py",
   "mimetype": "text/x-python",
   "name": "python",
   "nbconvert_exporter": "python",
   "pygments_lexer": "ipython3",
   "version": "3.11.0rc1"
  }
 },
 "nbformat": 4,
 "nbformat_minor": 5
}
